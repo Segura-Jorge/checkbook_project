{
 "cells": [
  {
   "cell_type": "code",
   "execution_count": 29,
   "id": "5e6a7dda",
   "metadata": {},
   "outputs": [
    {
     "name": "stdout",
     "output_type": "stream",
     "text": [
      "~~~ Welcome to your terminal checkbook! ~~~\n",
      "\n"
     ]
    },
    {
     "ename": "ValueError",
     "evalue": "invalid literal for int() with base 10: '0\\n500.0\\n-250.0'",
     "output_type": "error",
     "traceback": [
      "\u001b[0;31m---------------------------------------------------------------------------\u001b[0m",
      "\u001b[0;31mValueError\u001b[0m                                Traceback (most recent call last)",
      "Cell \u001b[0;32mIn[29], line 37\u001b[0m\n\u001b[1;32m     33\u001b[0m \u001b[38;5;66;03m#with open('my_checkbook.txt', 'w') as f:\u001b[39;00m\n\u001b[1;32m     34\u001b[0m \u001b[38;5;66;03m#    f.write('0')\u001b[39;00m\n\u001b[1;32m     36\u001b[0m \u001b[38;5;28;01mwith\u001b[39;00m \u001b[38;5;28mopen\u001b[39m(\u001b[38;5;124m'\u001b[39m\u001b[38;5;124mmy_checkbook.txt\u001b[39m\u001b[38;5;124m'\u001b[39m, \u001b[38;5;124m'\u001b[39m\u001b[38;5;124mr\u001b[39m\u001b[38;5;124m'\u001b[39m) \u001b[38;5;28;01mas\u001b[39;00m f:\n\u001b[0;32m---> 37\u001b[0m     balance \u001b[38;5;241m=\u001b[39m \u001b[38;5;28mint\u001b[39m(f\u001b[38;5;241m.\u001b[39mread())\n\u001b[1;32m     39\u001b[0m \u001b[38;5;66;03m#1 balance function\u001b[39;00m\n\u001b[1;32m     40\u001b[0m \u001b[38;5;28;01mdef\u001b[39;00m \u001b[38;5;21mbalance\u001b[39m(filename):\n",
      "\u001b[0;31mValueError\u001b[0m: invalid literal for int() with base 10: '0\\n500.0\\n-250.0'"
     ]
    }
   ],
   "source": [
    "#import getpass\n",
    "#\n",
    "## Define the correct username and password\n",
    "#correct_username = \"Jorge\"\n",
    "#correct_password = \"Tobias2024\"\n",
    "#\n",
    "#def authenticate():\n",
    "#    username = input(\"Enter your username: \")\n",
    "#    password = getpass.getpass(\"Enter your password: \")\n",
    "#\n",
    "#    if username == correct_username and password == correct_password:\n",
    "#        print(\"Authentication successful!\")\n",
    "#        return True\n",
    "#    else:\n",
    "#        print(\"Authentication failed. Access denied.\")\n",
    "#        return False\n",
    "#\n",
    "#if __name__ == \"__main__\":\n",
    "#    if authenticate():\n",
    "#        # Your main code goes here, which will only execute if authentication is successful.\n",
    "#       # greeting message to user\n",
    "#        print()\n",
    "print('~~~ Welcome to your terminal checkbook! ~~~')\n",
    "print()\n",
    "        \n",
    "        \n",
    "import os\n",
    "import subprocess\n",
    "import locale\n",
    "\n",
    "filename = 'my_checkbook.txt'\n",
    "\n",
    "with open('my_checkbook.txt', 'w') as f:\n",
    "    f.write('0')\n",
    "\n",
    "#1 balance function\n",
    "def balance(filename):\n",
    "    with open(filename) as f:\n",
    "        line = f.read().split('\\n')\n",
    "        balance = 0\n",
    "        for x in line:\n",
    "            balance += float(x)\n",
    "        return round(balance, 2)\n",
    "    \n",
    "#2 debit function\n",
    "def debit(debit_prompt):\n",
    "    with open(filename, 'a') as f:\n",
    "        if float(debit_prompt) > balance(filename):\n",
    "            print('WARNING: Negative balance as a result!')\n",
    "            f.write('\\n' + f'-{round(float(debit_prompt), 2)}')\n",
    "        else:\n",
    "            f.write('\\n' + f'-{round(float(debit_prompt), 2)}')\n",
    "            \n",
    "#3 credit function\n",
    "def credit(credit_prompt):\n",
    "    with open(filename, 'a') as f:\n",
    "        f.write('\\n' + f'{round(float(credit_prompt), 2)}')\n",
    "        \n",
    "def userchoice():\n",
    "    prompt = input('What would you like to do?\\n\\n\\\n",
    "    1) view current balance\\n\\\n",
    "    2) record a debit (withdraw)\\n\\\n",
    "    3) record a credit (deposit)\\n\\\n",
    "    4) exit\\n')\n",
    "    return prompt\n",
    "#print(prompt)\n",
    "prompt = userchoice()\n",
    "\n",
    "while prompt not in ['1', '2', '3', '4'] and prompt != '4':\n",
    "    print(f'Invalid choice: {prompt}')\n",
    "    prompt = userchoice()\n",
    "while prompt != '4':\n",
    "    # 1: view current balance\n",
    "    if prompt == '1':\n",
    "        print(f'Your choice: {prompt}')\n",
    "        # balance function goes here\n",
    "        print()\n",
    "        print(f'Your current balance is ${round(balance(filename), 2)}.')\n",
    "        print()\n",
    "        prompt\n",
    "\n",
    "    # 2: debit\n",
    "    elif prompt == '2':\n",
    "        print(f'Your choice: {prompt}')\n",
    "        print()\n",
    "        debit_prompt = input('How much is the debit? ')\n",
    "        # debit function goes here\n",
    "        debit(debit_prompt)\n",
    "        if balance(filename) >= float(debit_prompt):\n",
    "            print(f'Withdrew ${round(float(debit_prompt), 2)}, new balance is ${round(balance(filename), 2)}.')\n",
    "        else:\n",
    "            balance(filename) < float(debit_prompt)\n",
    "            \n",
    "            print(f'Withdrew ${round(float(debit_prompt), 2)}, new balance is ${round(balance(filename), 2)}.')\n",
    "        \n",
    "        print()\n",
    "        prompt     \n",
    "\n",
    "    # 3: credit\n",
    "    elif prompt == '3':\n",
    "        print(f'Your choice: {prompt}')\n",
    "        print()\n",
    "        credit_prompt = input('How much is the credit? ')\n",
    "        # credit function goes here\n",
    "        credit(credit_prompt)\n",
    "        print(f'Deposited ${round(float(credit_prompt), 2)}, new balance is ${round(balance(filename), 2)}.')\n",
    "        print()\n",
    "        prompt\n",
    "        \n",
    "    else:\n",
    "        print('Something went wrong!')\n",
    "        break\n",
    "        prompt\n",
    "\n",
    "    prompt = userchoice()\n",
    "\n",
    "#4 exit\n",
    "print(f'Your choice?: {prompt}')\n",
    "print()\n",
    "print('Thanks, have a great day!')"
   ]
  },
  {
   "cell_type": "code",
   "execution_count": 3,
   "id": "a21e6bc0",
   "metadata": {},
   "outputs": [],
   "source": [
    "#imports\n",
    "import os\n",
    "import subprocess\n",
    "import locale\n",
    "#locale.setlocale(locale.LC_ALL, '')"
   ]
  },
  {
   "cell_type": "code",
   "execution_count": 4,
   "id": "6badc77c",
   "metadata": {},
   "outputs": [],
   "source": [
    "# shows me all the files in my current directory\n",
    "# os.listdir()"
   ]
  },
  {
   "cell_type": "code",
   "execution_count": 4,
   "id": "6739d88d",
   "metadata": {
    "scrolled": true
   },
   "outputs": [],
   "source": [
    "with open('my_checkbook.txt', 'w') as f:\n",
    "    f.write('0')"
   ]
  },
  {
   "cell_type": "code",
   "execution_count": 5,
   "id": "74005888",
   "metadata": {},
   "outputs": [],
   "source": [
    "filename = 'my_checkbook.txt'"
   ]
  },
  {
   "cell_type": "code",
   "execution_count": 6,
   "id": "99270ab3",
   "metadata": {},
   "outputs": [],
   "source": [
    "#1 balance function\n",
    "def balance(filename):\n",
    "    with open(filename) as f:\n",
    "        line = f.read().split('\\n')\n",
    "        balance = 0\n",
    "        for x in line:\n",
    "            balance += float(x)\n",
    "        return round(balance, 2)"
   ]
  },
  {
   "cell_type": "code",
   "execution_count": 14,
   "id": "9f0ccac9",
   "metadata": {},
   "outputs": [],
   "source": [
    "#2 debit function\n",
    "def debit(debit_prompt):\n",
    "    with open(filename, 'a') as f:\n",
    "        if float(debit_prompt) > balance(filename):\n",
    "            print('WARNING: Negative balance as a result!')\n",
    "            f.write('\\n' + f'-{round(float(debit_prompt), 2)}')\n",
    "        else:\n",
    "            f.write('\\n' + f'-{round(float(debit_prompt), 2)}')"
   ]
  },
  {
   "cell_type": "code",
   "execution_count": 8,
   "id": "39eab223",
   "metadata": {},
   "outputs": [],
   "source": [
    "#3 credit function\n",
    "def credit(credit_prompt):\n",
    "    with open(filename, 'a') as f:\n",
    "        f.write('\\n' + f'{round(float(credit_prompt), 2)}')"
   ]
  },
  {
   "cell_type": "code",
   "execution_count": 17,
   "id": "18211a8c",
   "metadata": {},
   "outputs": [
    {
     "name": "stdout",
     "output_type": "stream",
     "text": [
      "What would you like to do?\n",
      "\n",
      "    1) view current balance\n",
      "    2) record a debit (withdraw)\n",
      "    3) record a credit (deposit)\n",
      "    4) exit\n",
      "2\n"
     ]
    }
   ],
   "source": [
    "def userchoice():\n",
    "    prompt = input('What would you like to do?\\n\\n\\\n",
    "    1) view current balance\\n\\\n",
    "    2) record a debit (withdraw)\\n\\\n",
    "    3) record a credit (deposit)\\n\\\n",
    "    4) exit\\n')\n",
    "    return prompt\n",
    "#print(prompt)\n",
    "prompt = userchoice()"
   ]
  },
  {
   "cell_type": "code",
   "execution_count": 19,
   "id": "907548c5",
   "metadata": {},
   "outputs": [
    {
     "name": "stdout",
     "output_type": "stream",
     "text": [
      "Your choice?: 4\n",
      "\n",
      "Thanks, have a great day!\n"
     ]
    }
   ],
   "source": [
    "while prompt not in ['1', '2', '3', '4'] and prompt != '4':\n",
    "    print(f'Invalid choice: {prompt}')\n",
    "    prompt = userchoice()\n",
    "while prompt != '4':\n",
    "    # 1: view current balance\n",
    "    if prompt == '1':\n",
    "        print(f'Your choice: {prompt}')\n",
    "        # balance function goes here\n",
    "        print()\n",
    "        print(f'Your current balance is ${round(balance(filename), 2)}.')\n",
    "        print()\n",
    "        prompt\n",
    "\n",
    "    # 2: debit\n",
    "    elif prompt == '2':\n",
    "        print(f'Your choice: {prompt}')\n",
    "        print()\n",
    "        debit_prompt = input('How much is the debit? ')\n",
    "        # debit function goes here\n",
    "        debit(debit_prompt)\n",
    "        if balance(filename) >= float(debit_prompt):\n",
    "            print(f'Withdrew ${round(float(debit_prompt), 2)}, new balance is ${round(balance(filename), 2)}.')\n",
    "        else:\n",
    "            balance(filename) < float(debit_prompt)\n",
    "            \n",
    "            print(f'Withdrew ${round(float(debit_prompt), 2)}, new balance is ${round(balance(filename), 2)}.')\n",
    "        \n",
    "        print()\n",
    "        prompt     \n",
    "\n",
    "    # 3: credit\n",
    "    elif prompt == '3':\n",
    "        print(f'Your choice: {prompt}')\n",
    "        print()\n",
    "        credit_prompt = input('How much is the credit? ')\n",
    "        # credit function goes here\n",
    "        credit(credit_prompt)\n",
    "        print(f'Deposited ${round(float(credit_prompt), 2)}, new balance is ${round(balance(filename), 2)}.')\n",
    "        print()\n",
    "        prompt\n",
    "        \n",
    "    else:\n",
    "        print('Something went wrong!')\n",
    "        break\n",
    "        prompt\n",
    "\n",
    "    prompt = userchoice()\n",
    "\n",
    "#4 exit\n",
    "print(f'Your choice?: {prompt}')\n",
    "print()\n",
    "print('Thanks, have a great day!')"
   ]
  },
  {
   "cell_type": "code",
   "execution_count": 31,
   "id": "82b8207c",
   "metadata": {},
   "outputs": [
    {
     "ename": "ValueError",
     "evalue": "could not convert string to float: '0\\n500.0\\n-250.0'",
     "output_type": "error",
     "traceback": [
      "\u001b[0;31m---------------------------------------------------------------------------\u001b[0m",
      "\u001b[0;31mValueError\u001b[0m                                Traceback (most recent call last)",
      "Cell \u001b[0;32mIn[31], line 3\u001b[0m\n\u001b[1;32m      1\u001b[0m \u001b[38;5;28;01mwith\u001b[39;00m \u001b[38;5;28mopen\u001b[39m(\u001b[38;5;124m'\u001b[39m\u001b[38;5;124mmy_checkbook.txt\u001b[39m\u001b[38;5;124m'\u001b[39m, \u001b[38;5;124m'\u001b[39m\u001b[38;5;124mr\u001b[39m\u001b[38;5;124m'\u001b[39m) \u001b[38;5;28;01mas\u001b[39;00m f:\n\u001b[1;32m      2\u001b[0m     \u001b[38;5;66;03m# Read the content and convert it to an integer\u001b[39;00m\n\u001b[0;32m----> 3\u001b[0m     value \u001b[38;5;241m=\u001b[39m \u001b[38;5;28mfloat\u001b[39m(f\u001b[38;5;241m.\u001b[39mread())\n",
      "\u001b[0;31mValueError\u001b[0m: could not convert string to float: '0\\n500.0\\n-250.0'"
     ]
    }
   ],
   "source": [
    "with open('my_checkbook.txt', 'r') as f:\n",
    "    # Read the content and convert it to an integer\n",
    "    value = float(f.read())"
   ]
  },
  {
   "cell_type": "code",
   "execution_count": null,
   "id": "af1489a9",
   "metadata": {},
   "outputs": [],
   "source": []
  }
 ],
 "metadata": {
  "kernelspec": {
   "display_name": "Python 3 (ipykernel)",
   "language": "python",
   "name": "python3"
  },
  "language_info": {
   "codemirror_mode": {
    "name": "ipython",
    "version": 3
   },
   "file_extension": ".py",
   "mimetype": "text/x-python",
   "name": "python",
   "nbconvert_exporter": "python",
   "pygments_lexer": "ipython3",
   "version": "3.11.4"
  }
 },
 "nbformat": 4,
 "nbformat_minor": 5
}
